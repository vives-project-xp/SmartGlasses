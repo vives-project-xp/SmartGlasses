{
 "cells": [
  {
   "cell_type": "code",
   "execution_count": null,
   "id": "ee94164b",
   "metadata": {},
   "outputs": [],
   "source": [
    "import cv2 as cv\n",
    "import mediapipe.python.solutions.hands as mp_hands\n",
    "import mediapipe.python.solutions.drawing_utils as drawing\n",
    "import mediapipe.python.solutions.drawing_styles as drawing_styles\n",
    "\n",
    "hands = mp_hands.Hands(\n",
    "    static_image_mode=False,\n",
    "    max_num_hands=2,\n",
    "    min_detection_confidence=0.5)\n",
    "\n",
    "# Set the desired resolution (e.g., 1280x720)\n",
    "width, height = 1280, 720\n",
    "\n",
    "cam = cv.VideoCapture(0)\n",
    "cam.set(3, width)  # Set the width\n",
    "cam.set(4, height)  # Set the height\n",
    "\n",
    "while cam.isOpened():\n",
    "    success, img_rgb = cam.read()\n",
    "    if not success:\n",
    "        print(\"Camera Frame not available\")\n",
    "        continue\n",
    "\n",
    "    # Convert image to RGB format\n",
    "    img_rgb = cv.cvtColor(img_rgb, cv.COLOR_BGR2RGB)\n",
    "    hands_detected = hands.process(img_rgb)\n",
    "\n",
    "    # Convert image to RGB format\n",
    "    img_rgb = cv.cvtColor(img_rgb, cv.COLOR_RGB2BGR)\n",
    "\n",
    "    if hands_detected.multi_hand_landmarks:\n",
    "        for hand_landmarks in hands_detected.multi_hand_landmarks:\n",
    "            drawing.draw_landmarks(\n",
    "                img_rgb,\n",
    "                hand_landmarks,\n",
    "                mp_hands.HAND_CONNECTIONS,\n",
    "                drawing_styles.get_default_hand_landmarks_style(),\n",
    "                drawing_styles.get_default_hand_connections_style(),\n",
    "            )\n",
    "\n",
    "    cv.imshow(\"Show Video\", cv.flip(img_rgb, 1))\n",
    "\n",
    "    if cv.waitKey(20) & 0xff == ord('q'):\n",
    "        break\n",
    "\n",
    "cam.release()\n"
   ]
  }
 ],
 "metadata": {
  "kernelspec": {
   "display_name": ".venv",
   "language": "python",
   "name": "python3"
  },
  "language_info": {
   "codemirror_mode": {
    "name": "ipython",
    "version": 3
   },
   "file_extension": ".py",
   "mimetype": "text/x-python",
   "name": "python",
   "nbconvert_exporter": "python",
   "pygments_lexer": "ipython3",
   "version": "3.13.5"
  }
 },
 "nbformat": 4,
 "nbformat_minor": 5
}
